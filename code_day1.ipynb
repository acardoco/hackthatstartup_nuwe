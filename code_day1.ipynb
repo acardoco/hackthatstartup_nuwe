{
  "nbformat": 4,
  "nbformat_minor": 0,
  "metadata": {
    "colab": {
      "name": "Andres_Cardoso.ipynb",
      "provenance": []
    },
    "kernelspec": {
      "name": "python3",
      "display_name": "Python 3"
    },
    "accelerator": "GPU"
  },
  "cells": [
    {
      "cell_type": "markdown",
      "metadata": {
        "id": "cNUl3SxJUHpc"
      },
      "source": [
        "Retos individuales\r\n",
        "\r\n",
        "\r\n",
        "*   Hackathon: HACK THAT STARTUP \r\n",
        "*   Author: Andrés Cardoso Cordero\r\n",
        "\r\n"
      ]
    },
    {
      "cell_type": "markdown",
      "metadata": {
        "id": "n4N1S3K0UyNp"
      },
      "source": [
        "INDIVIDUAL CHALLENGE 1 - DATA SCIENCE CORRELATION\r\n",
        "----"
      ]
    },
    {
      "cell_type": "markdown",
      "metadata": {
        "id": "Ez7H8g4Rb8Gg"
      },
      "source": [
        "*a) Realiza un análisis de este dataset y explica de que dos medios eliminarías el gasto en\r\n",
        "marketing y a que dos medios aumentarías el gasto en marketing con tal de maximizar los\r\n",
        "Ingresos. \r\n",
        "250pt*\r\n",
        "\r\n",
        "*b) Realiza una representación gráfica de los datos que le permitan a Juan entender mejor\r\n",
        "tu análisis. 250pt*"
      ]
    },
    {
      "cell_type": "code",
      "metadata": {
        "colab": {
          "resources": {
            "http://localhost:8080/nbextensions/google.colab/files.js": {
              "data": "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",
              "ok": true,
              "headers": [
                [
                  "content-type",
                  "application/javascript"
                ]
              ],
              "status": 200,
              "status_text": ""
            }
          },
          "base_uri": "https://localhost:8080/",
          "height": 72
        },
        "id": "MAzCCtHXVAod",
        "outputId": "899d8ee0-7571-44a2-892d-2b27e2ad343b"
      },
      "source": [
        "from google.colab import files \r\n",
        "  \r\n",
        "  \r\n",
        "uploaded = files.upload()"
      ],
      "execution_count": null,
      "outputs": [
        {
          "output_type": "display_data",
          "data": {
            "text/html": [
              "\n",
              "     <input type=\"file\" id=\"files-598386f9-4bac-4be1-a29b-644f0dfc1728\" name=\"files[]\" multiple disabled\n",
              "        style=\"border:none\" />\n",
              "     <output id=\"result-598386f9-4bac-4be1-a29b-644f0dfc1728\">\n",
              "      Upload widget is only available when the cell has been executed in the\n",
              "      current browser session. Please rerun this cell to enable.\n",
              "      </output>\n",
              "      <script src=\"/nbextensions/google.colab/files.js\"></script> "
            ],
            "text/plain": [
              "<IPython.core.display.HTML object>"
            ]
          },
          "metadata": {
            "tags": []
          }
        },
        {
          "output_type": "stream",
          "text": [
            "Saving Marketing.csv to Marketing.csv\n"
          ],
          "name": "stdout"
        }
      ]
    },
    {
      "cell_type": "code",
      "metadata": {
        "id": "Wjz3upVVZ16f"
      },
      "source": [
        "from string import ascii_letters\r\n",
        "import numpy as np\r\n",
        "import pandas as pd\r\n",
        "import seaborn as sns\r\n",
        "import matplotlib.pyplot as plt\r\n",
        "import io\r\n",
        "  \r\n",
        "df = pd.read_csv(io.BytesIO(uploaded['Marketing.csv'])) \r\n",
        "df.columns"
      ],
      "execution_count": null,
      "outputs": []
    },
    {
      "cell_type": "markdown",
      "metadata": {
        "id": "vSKCoMxgc5au"
      },
      "source": [
        "**Análisis**"
      ]
    },
    {
      "cell_type": "code",
      "metadata": {
        "colab": {
          "base_uri": "https://localhost:8080/"
        },
        "id": "Zm7Z2xgSFciL",
        "outputId": "ee9ee8bb-8ec8-4028-a883-444dee70a9f3"
      },
      "source": [
        "df.isnull().values.any()"
      ],
      "execution_count": null,
      "outputs": [
        {
          "output_type": "execute_result",
          "data": {
            "text/plain": [
              "False"
            ]
          },
          "metadata": {
            "tags": []
          },
          "execution_count": 35
        }
      ]
    },
    {
      "cell_type": "code",
      "metadata": {
        "colab": {
          "base_uri": "https://localhost:8080/",
          "height": 297
        },
        "id": "nDir31CLey95",
        "outputId": "fd457e6e-1ea6-43ac-c43c-3ffd834d354e"
      },
      "source": [
        "df.describe()"
      ],
      "execution_count": null,
      "outputs": [
        {
          "output_type": "execute_result",
          "data": {
            "text/html": [
              "<div>\n",
              "<style scoped>\n",
              "    .dataframe tbody tr th:only-of-type {\n",
              "        vertical-align: middle;\n",
              "    }\n",
              "\n",
              "    .dataframe tbody tr th {\n",
              "        vertical-align: top;\n",
              "    }\n",
              "\n",
              "    .dataframe thead th {\n",
              "        text-align: right;\n",
              "    }\n",
              "</style>\n",
              "<table border=\"1\" class=\"dataframe\">\n",
              "  <thead>\n",
              "    <tr style=\"text-align: right;\">\n",
              "      <th></th>\n",
              "      <th>TV</th>\n",
              "      <th>Radio</th>\n",
              "      <th>Periodico</th>\n",
              "      <th>Redes Sociales</th>\n",
              "      <th>Email</th>\n",
              "      <th>Ingresos</th>\n",
              "    </tr>\n",
              "  </thead>\n",
              "  <tbody>\n",
              "    <tr>\n",
              "      <th>count</th>\n",
              "      <td>200.000000</td>\n",
              "      <td>200.000000</td>\n",
              "      <td>200.000000</td>\n",
              "      <td>200.000000</td>\n",
              "      <td>200.000000</td>\n",
              "      <td>200.000000</td>\n",
              "    </tr>\n",
              "    <tr>\n",
              "      <th>mean</th>\n",
              "      <td>147.042500</td>\n",
              "      <td>23.264000</td>\n",
              "      <td>30.554000</td>\n",
              "      <td>96.506750</td>\n",
              "      <td>17.259350</td>\n",
              "      <td>14.022500</td>\n",
              "    </tr>\n",
              "    <tr>\n",
              "      <th>std</th>\n",
              "      <td>85.854236</td>\n",
              "      <td>14.846809</td>\n",
              "      <td>21.778621</td>\n",
              "      <td>49.824942</td>\n",
              "      <td>26.584668</td>\n",
              "      <td>5.217457</td>\n",
              "    </tr>\n",
              "    <tr>\n",
              "      <th>min</th>\n",
              "      <td>0.700000</td>\n",
              "      <td>0.000000</td>\n",
              "      <td>0.300000</td>\n",
              "      <td>6.060000</td>\n",
              "      <td>0.000000</td>\n",
              "      <td>1.600000</td>\n",
              "    </tr>\n",
              "    <tr>\n",
              "      <th>25%</th>\n",
              "      <td>74.375000</td>\n",
              "      <td>9.975000</td>\n",
              "      <td>12.750000</td>\n",
              "      <td>51.357500</td>\n",
              "      <td>2.522500</td>\n",
              "      <td>10.375000</td>\n",
              "    </tr>\n",
              "    <tr>\n",
              "      <th>50%</th>\n",
              "      <td>149.750000</td>\n",
              "      <td>22.900000</td>\n",
              "      <td>25.750000</td>\n",
              "      <td>99.480000</td>\n",
              "      <td>8.160000</td>\n",
              "      <td>12.900000</td>\n",
              "    </tr>\n",
              "    <tr>\n",
              "      <th>75%</th>\n",
              "      <td>218.825000</td>\n",
              "      <td>36.525000</td>\n",
              "      <td>45.100000</td>\n",
              "      <td>137.872500</td>\n",
              "      <td>20.055000</td>\n",
              "      <td>17.400000</td>\n",
              "    </tr>\n",
              "    <tr>\n",
              "      <th>max</th>\n",
              "      <td>296.400000</td>\n",
              "      <td>49.600000</td>\n",
              "      <td>114.000000</td>\n",
              "      <td>188.530000</td>\n",
              "      <td>170.650000</td>\n",
              "      <td>27.000000</td>\n",
              "    </tr>\n",
              "  </tbody>\n",
              "</table>\n",
              "</div>"
            ],
            "text/plain": [
              "               TV       Radio  ...       Email    Ingresos\n",
              "count  200.000000  200.000000  ...  200.000000  200.000000\n",
              "mean   147.042500   23.264000  ...   17.259350   14.022500\n",
              "std     85.854236   14.846809  ...   26.584668    5.217457\n",
              "min      0.700000    0.000000  ...    0.000000    1.600000\n",
              "25%     74.375000    9.975000  ...    2.522500   10.375000\n",
              "50%    149.750000   22.900000  ...    8.160000   12.900000\n",
              "75%    218.825000   36.525000  ...   20.055000   17.400000\n",
              "max    296.400000   49.600000  ...  170.650000   27.000000\n",
              "\n",
              "[8 rows x 6 columns]"
            ]
          },
          "metadata": {
            "tags": []
          },
          "execution_count": 18
        }
      ]
    },
    {
      "cell_type": "code",
      "metadata": {
        "colab": {
          "base_uri": "https://localhost:8080/",
          "height": 195
        },
        "id": "DHu7LpFac69v",
        "outputId": "1d1d329c-92e3-484a-dcc2-2a80117a421c"
      },
      "source": [
        "import warnings\r\n",
        "warnings.filterwarnings('ignore')\r\n",
        "\r\n",
        "#scatterplot\r\n",
        "sns.set()\r\n",
        "cols = df.columns\r\n",
        "sns.pairplot(df[cols], size = 2.5, y_vars=['Ingresos'])\r\n",
        "plt.show();"
      ],
      "execution_count": null,
      "outputs": [
        {
          "output_type": "display_data",
          "data": {
            "image/png": "[encoded data removed]",
            "text/plain": [
              "<Figure size 1080x180 with 7 Axes>"
            ]
          },
          "metadata": {
            "tags": []
          }
        }
      ]
    },
    {
      "cell_type": "markdown",
      "metadata": {
        "id": "NzwdHDBfD3hr"
      },
      "source": [
        "Con los plots de arriba podemos fijarnos en las gráficas donde se está intentando dibujar una línea recta de un solo sentido (por ejemplo la que se dibuja entre ingresos y redes sociales). Este comportamiento en concreto indica una **alta dependencencia de la variable target (Ingresos) con respecto a Redes Sociales, TV y Radio**: a más \"clara\" la línea recta de puntos, más dependencia."
      ]
    },
    {
      "cell_type": "code",
      "metadata": {
        "colab": {
          "base_uri": "https://localhost:8080/",
          "height": 554
        },
        "id": "hAYS0UJyabl_",
        "outputId": "da3bba4a-4f24-4370-94d1-98b843dd96cf"
      },
      "source": [
        "# Compute the correlation matrix\r\n",
        "corr = df.corr()\r\n",
        "\r\n",
        "# Generate a mask for the upper triangle\r\n",
        "mask = np.triu(np.ones_like(corr, dtype=bool))\r\n",
        "\r\n",
        "# Set up the matplotlib figure\r\n",
        "f, ax = plt.subplots(figsize=(11, 9))\r\n",
        "\r\n",
        "# Generate a custom diverging colormap\r\n",
        "cmap = sns.diverging_palette(230, 20, as_cmap=True)\r\n",
        "\r\n",
        "# Draw the heatmap with the mask and correct aspect ratio\r\n",
        "sns.heatmap(corr, mask=mask, cmap=cmap, vmax=.3, center=0,\r\n",
        "            square=True, linewidths=.5, cbar_kws={\"shrink\": .5}, annot=True)"
      ],
      "execution_count": null,
      "outputs": [
        {
          "output_type": "execute_result",
          "data": {
            "text/plain": [
              "<matplotlib.axes._subplots.AxesSubplot at 0x7fc99dadc208>"
            ]
          },
          "metadata": {
            "tags": []
          },
          "execution_count": 20
        },
        {
          "output_type": "display_data",
          "data": {
            "image/png": "[encoded data removed]",
            "text/plain": [
              "<Figure size 792x648 with 2 Axes>"
            ]
          },
          "metadata": {
            "tags": [],
            "needs_background": "light"
          }
        }
      ]
    },
    {
      "cell_type": "markdown",
      "metadata": {
        "id": "qf-APxb5cGGG"
      },
      "source": [
        "Con una simple correlación de Pearson podemos ver qué variables/elementos ayudan más a los ingresos y cuáles no:  \r\n",
        "*  Los **dos que más** son las *Redes Sociales* (0.86 de correlación con Ingresos) y *TV* (0.78).\r\n",
        "*  Los que **menos están aportando** son el *Email* (-0.16) y el *Periódico* (0.23). De hecho, el *Email* está teniendo un aporte negativo a los ingresos, por lo que agraba más que ayudar.\r\n",
        "*   Dada la altísima correlación que hay entre TV y Redes sociales (0.99), se podría entrenar un modelo descartando una de las dos variables.\r\n",
        "\r\n",
        "\r\n",
        "\r\n"
      ]
    },
    {
      "cell_type": "markdown",
      "metadata": {
        "id": "ySb6J1yeU5MA"
      },
      "source": [
        "INDIVIDUAL CHALLENGE 2 - DATA SCIENCE LINEAR REGRESSION\r\n",
        "----"
      ]
    },
    {
      "cell_type": "markdown",
      "metadata": {
        "id": "v-5sYJJjgWFF"
      },
      "source": [
        "*a) Determina las mejores variables predictoras para un modelo predictivo lineal, aplica el\r\n",
        "modelo con dichas variables y calcula el score. 250pt*"
      ]
    },
    {
      "cell_type": "code",
      "metadata": {
        "colab": {
          "base_uri": "https://localhost:8080/"
        },
        "id": "W_ASh0xNVBlZ",
        "outputId": "7efd1f3b-4906-44b4-ffc2-8ac527e5b948"
      },
      "source": [
        "from sklearn.ensemble import RandomForestRegressor\r\n",
        "from sklearn.datasets import make_regression\r\n",
        "from sklearn.model_selection import train_test_split\r\n",
        "from sklearn.feature_selection import SelectFromModel\r\n",
        "from sklearn.linear_model import LinearRegression\r\n",
        "\r\n",
        "# asignamos variables que van a entrenamiento y variable target\r\n",
        "x_columns = df.columns[0:5]\r\n",
        "X, y = df[x_columns], df.Ingresos\r\n",
        "\r\n",
        "# split train-test\r\n",
        "X_train, X_test, y_train, y_test = train_test_split(\r\n",
        "    X, y, test_size=0.2, random_state=66)\r\n",
        "\r\n",
        "# entrenamos un modelo de regresión lineal y con la función de SelectFromModel dejamos que escoja las mejores variables\r\n",
        "sel = SelectFromModel(LinearRegression())\r\n",
        "sel.fit(X_train, y_train)\r\n",
        "\r\n",
        "print(\"Las variables más importantes son: \")\r\n",
        "best_vars = sel.get_support()\r\n",
        "print(X_train.columns[best_vars])"
      ],
      "execution_count": null,
      "outputs": [
        {
          "output_type": "stream",
          "text": [
            "Las variables más importantes son: \n",
            "Index(['TV', 'Radio', 'Redes Sociales'], dtype='object')\n"
          ],
          "name": "stdout"
        }
      ]
    },
    {
      "cell_type": "code",
      "metadata": {
        "colab": {
          "base_uri": "https://localhost:8080/"
        },
        "id": "LDsaQoGyoKb0",
        "outputId": "12fb0ada-b89a-4934-d1dc-47dd52432974"
      },
      "source": [
        "# y nos quedamos con las más importantes\r\n",
        "X_train, X_test, y_train, y_test = train_test_split(\r\n",
        "    X.loc[:, best_vars], y, test_size=0.2, random_state=66)\r\n",
        "\r\n",
        "model = LinearRegression()\r\n",
        "model.fit(X_train, y_train)\r\n",
        "\r\n",
        "# obtenemos el score R2\r\n",
        "print(\" Score final para el modelo con las mejores variables es de :\", round(model.score(X_test, y_test) * 100, 2), \"%\")"
      ],
      "execution_count": null,
      "outputs": [
        {
          "output_type": "stream",
          "text": [
            " Score final para el modelo con las mejores variables es de : 88.97 %\n"
          ],
          "name": "stdout"
        }
      ]
    },
    {
      "cell_type": "markdown",
      "metadata": {
        "id": "7yVTmtBuo8sV"
      },
      "source": [
        "\r\n",
        "\r\n",
        "\r\n",
        "*b) Empleando como variables predictoras [‘Redes Sociales’] y [‘Email’], predice cuales\r\n",
        "serian los ingresos si se aplicasen 500 € a redes sociales y 100 € a radio. 250pt*"
      ]
    },
    {
      "cell_type": "code",
      "metadata": {
        "colab": {
          "base_uri": "https://localhost:8080/"
        },
        "id": "lWWSKZubo9ga",
        "outputId": "5d9206fd-9150-46d8-e441-afcc794abf04"
      },
      "source": [
        "# y nos quedamos con las más importantes\r\n",
        "X_train, X_test, y_train, y_test = train_test_split(\r\n",
        "    X.loc[:, ['Redes Sociales', 'Email']], y, test_size=0.2, random_state=66)\r\n",
        "\r\n",
        "model = LinearRegression()\r\n",
        "model.fit(X_train, y_train)\r\n",
        "\r\n",
        "# obtenemos el score R2\r\n",
        "print(\" Score final para el modelo con Redes sociales y Email de variables es de :\", round(model.score(X_test, y_test) * 100, 2), \"%\")\r\n",
        "\r\n",
        "# y resolvemos la duda del ENUNCIADO\r\n",
        "redes_sociales = 500\r\n",
        "email = 100\r\n",
        "predicion_enunciado_apartado_b = round(model.predict(np.array([[redes_sociales, email]]))[0], 2)\r\n",
        "print(\" La respuesta al enunciado sería:\", predicion_enunciado_apartado_b)"
      ],
      "execution_count": null,
      "outputs": [
        {
          "output_type": "stream",
          "text": [
            " Score final para el modelo con Redes sociales y Email de variables es de : 79.86 %\n",
            "La respuesta al enunciado sería: 52.54\n"
          ],
          "name": "stdout"
        }
      ]
    },
    {
      "cell_type": "markdown",
      "metadata": {
        "id": "pzxhtRmQU7GD"
      },
      "source": [
        "INDIVIDUAL CHALLENGE 3 - DATA SCIENCE NLP\r\n",
        "----"
      ]
    },
    {
      "cell_type": "markdown",
      "metadata": {
        "id": "Onm6mro4rXjA"
      },
      "source": [
        "*a) Genera un algoritmo de clasificación de texto para el dataset mencionado empleando\r\n",
        "para las predicciones la libreria scikit-learn, calcula el score de tu algoritmo. 500pt*\r\n",
        "\r\n",
        "\r\n",
        "\r\n",
        "\r\n",
        "\r\n",
        "\r\n",
        "\r\n",
        "\r\n"
      ]
    },
    {
      "cell_type": "code",
      "metadata": {
        "id": "5-CajLdfVB8A"
      },
      "source": [
        "from sklearn.datasets import fetch_20newsgroups\r\n"
      ],
      "execution_count": null,
      "outputs": []
    },
    {
      "cell_type": "code",
      "metadata": {
        "id": "_m6Fyljqrs22"
      },
      "source": [
        "data_train = fetch_20newsgroups(subset='train', shuffle=True, random_state=42)\r\n",
        "\r\n",
        "data_test = fetch_20newsgroups(subset='test', shuffle=True, random_state=42)"
      ],
      "execution_count": null,
      "outputs": []
    },
    {
      "cell_type": "code",
      "metadata": {
        "id": "nJT1wRmR8L_N",
        "colab": {
          "base_uri": "https://localhost:8080/"
        },
        "outputId": "a2f95c0e-3c9c-471d-97f6-4b82eb7fae31"
      },
      "source": [
        "# Pre-procesamiento del texto\r\n",
        "import nltk\r\n",
        "import re\r\n",
        "nltk.download('wordnet')\r\n",
        "import pickle\r\n",
        "from nltk.corpus import stopwords\r\n",
        "from nltk.stem import WordNetLemmatizer\r\n",
        "from tqdm import tqdm\r\n",
        "\r\n",
        "# funcion para limpiar algunas palabras o caracteres\r\n",
        "def clean_data(X):\r\n",
        "  documents = []\r\n",
        "\r\n",
        "  stemmer = WordNetLemmatizer()\r\n",
        "  for sen in tqdm(range(0, len(X))):\r\n",
        "    # Remove all the special characters\r\n",
        "    document = re.sub(r'\\W', ' ', str(X[sen]))\r\n",
        "\r\n",
        "    # remove all single characters\r\n",
        "    document = re.sub(r'\\s+[a-zA-Z]\\s+', ' ', document)\r\n",
        "\r\n",
        "    # Remove single characters from the start\r\n",
        "    document = re.sub(r'\\^[a-zA-Z]\\s+', ' ', document) \r\n",
        "\r\n",
        "    # Substituting multiple spaces with single space\r\n",
        "    document = re.sub(r'\\s+', ' ', document, flags=re.I)\r\n",
        "\r\n",
        "    # Removing prefixed 'b'\r\n",
        "    document = re.sub(r'^b\\s+', '', document)\r\n",
        "\r\n",
        "    # Converting to Lowercase\r\n",
        "    document = document.lower()\r\n",
        "\r\n",
        "    # Lemmatization\r\n",
        "    document = document.split()\r\n",
        "\r\n",
        "    document = [stemmer.lemmatize(word) for word in document]\r\n",
        "    document = ' '.join(document)\r\n",
        "\r\n",
        "    documents.append(document)\r\n",
        "  return documents\r\n",
        "\r\n",
        "# limpiamos\r\n",
        "X_train = clean_data(data_train.data)\r\n",
        "X_test = clean_data(data_test.data)"
      ],
      "execution_count": null,
      "outputs": [
        {
          "output_type": "stream",
          "text": [
            "\r  0%|          | 0/11314 [00:00<?, ?it/s]"
          ],
          "name": "stderr"
        },
        {
          "output_type": "stream",
          "text": [
            "[nltk_data] Downloading package wordnet to /root/nltk_data...\n",
            "[nltk_data]   Package wordnet is already up-to-date!\n"
          ],
          "name": "stdout"
        },
        {
          "output_type": "stream",
          "text": [
            "100%|██████████| 11314/11314 [00:15<00:00, 732.80it/s]\n",
            "100%|██████████| 7532/7532 [00:08<00:00, 855.60it/s]\n"
          ],
          "name": "stderr"
        }
      ]
    },
    {
      "cell_type": "markdown",
      "metadata": {
        "id": "23oFUTj41GuH"
      },
      "source": [
        "Modelo con random forest\r\n",
        "---"
      ]
    },
    {
      "cell_type": "code",
      "metadata": {
        "id": "D-mByucCxnEy",
        "colab": {
          "base_uri": "https://localhost:8080/"
        },
        "outputId": "e817c16b-6fa1-4132-bcca-c5054ceab518"
      },
      "source": [
        "%%time\r\n",
        "from sklearn.feature_extraction.text import CountVectorizer\r\n",
        "from sklearn.feature_extraction.text import TfidfTransformer\r\n",
        "from sklearn.ensemble import RandomForestClassifier\r\n",
        "from sklearn.metrics import accuracy_score\r\n",
        "from sklearn.pipeline import Pipeline\r\n",
        "text_clf = Pipeline([('vect', CountVectorizer(stop_words='english')), ('tfidf', TfidfTransformer()), ('clf', RandomForestClassifier(n_estimators = 1000)),])\r\n",
        "\r\n",
        "text_clf = text_clf.fit(X_train, data_train.target)"
      ],
      "execution_count": null,
      "outputs": [
        {
          "output_type": "stream",
          "text": [
            "CPU times: user 6min, sys: 842 ms, total: 6min 1s\n",
            "Wall time: 6min 1s\n"
          ],
          "name": "stdout"
        }
      ]
    },
    {
      "cell_type": "code",
      "metadata": {
        "colab": {
          "base_uri": "https://localhost:8080/"
        },
        "id": "rBIWyHfL4Sdi",
        "outputId": "92b149b4-63d6-448a-96c6-f29301bd4814"
      },
      "source": [
        "preds = text_clf.predict(X_test)\r\n",
        "print(\"Accuracy con modelo basado en árboles:\", round(accuracy_score(data_test.target, preds) * 100, 2), \"%\")"
      ],
      "execution_count": null,
      "outputs": [
        {
          "output_type": "stream",
          "text": [
            "Accuracy con modelo basado en árboles: 80.28 %\n"
          ],
          "name": "stdout"
        }
      ]
    },
    {
      "cell_type": "markdown",
      "metadata": {
        "id": "mHX1cNqP24kv"
      },
      "source": [
        "Modelo usando Tensorflow y redes neuronales (pruebas)\r\n",
        "---"
      ]
    },
    {
      "cell_type": "code",
      "metadata": {
        "colab": {
          "base_uri": "https://localhost:8080/"
        },
        "id": "QwubcCG69vIO",
        "outputId": "acb0b09b-8d63-45e3-ced2-8b0e33e2f9ac"
      },
      "source": [
        "import tensorflow as tf\r\n",
        "from tensorflow.python.client import device_lib\r\n",
        "print(device_lib.list_local_devices())"
      ],
      "execution_count": null,
      "outputs": [
        {
          "output_type": "stream",
          "text": [
            "[name: \"/device:CPU:0\"\n",
            "device_type: \"CPU\"\n",
            "memory_limit: 268435456\n",
            "locality {\n",
            "}\n",
            "incarnation: 604867873876257636\n",
            ", name: \"/device:GPU:0\"\n",
            "device_type: \"GPU\"\n",
            "memory_limit: 14638920512\n",
            "locality {\n",
            "  bus_id: 1\n",
            "  links {\n",
            "  }\n",
            "}\n",
            "incarnation: 11592379495438481520\n",
            "physical_device_desc: \"device: 0, name: Tesla T4, pci bus id: 0000:00:04.0, compute capability: 7.5\"\n",
            "]\n"
          ],
          "name": "stdout"
        }
      ]
    },
    {
      "cell_type": "code",
      "metadata": {
        "id": "E0JXyRi629i6"
      },
      "source": [
        "import scipy\r\n",
        "from tensorflow.keras.preprocessing.text import Tokenizer\r\n",
        "from tensorflow.keras.preprocessing.sequence import pad_sequences\r\n",
        "import numpy as np\r\n",
        "\r\n",
        "# convertimos texto a integers\r\n",
        "vocab_size = 20000\r\n",
        "tokenizer = Tokenizer(num_words=vocab_size, oov_token='<OOV>')\r\n",
        "tokenizer.fit_on_texts(X_train)\r\n",
        "word_index = tokenizer.word_index\r\n",
        "x_seq = tokenizer.texts_to_sequences(X_train)\r\n",
        "\r\n",
        "# añadimos padding para que todas las filas tengan la misma longitud\r\n",
        "padding_type = 'post'\r\n",
        "max_len = 5000\r\n",
        "x_train = pad_sequences(x_seq, padding=padding_type, maxlen=max_len)\r\n",
        "x_test = pad_sequences(tokenizer.texts_to_sequences(X_test), padding=padding_type, maxlen=max_len)"
      ],
      "execution_count": null,
      "outputs": []
    },
    {
      "cell_type": "code",
      "metadata": {
        "id": "yqHASUEmBiiZ"
      },
      "source": [
        "from keras import optimizers\r\n",
        "from tensorflow.keras.callbacks import ReduceLROnPlateau"
      ],
      "execution_count": null,
      "outputs": []
    },
    {
      "cell_type": "code",
      "metadata": {
        "id": "JWtGqLEW6DP9",
        "colab": {
          "base_uri": "https://localhost:8080/"
        },
        "outputId": "19e2ad25-8144-4f2d-de20-9f10cf732f2a"
      },
      "source": [
        "# modelo \r\n",
        "model = tf.keras.Sequential([\r\n",
        "                            tf.keras.layers.Embedding(vocab_size, 64, input_length=x_train.shape[1]),\r\n",
        "                            tf.keras.layers.GlobalAveragePooling1D(),\r\n",
        "                            tf.keras.layers.Dropout(0.2),\r\n",
        "                            tf.keras.layers.Dense(120, activation='sigmoid'),\r\n",
        "                            tf.keras.layers.Dense(np.unique(data_train.target).shape[0], activation='softmax')\r\n",
        "])\r\n",
        "model.compile(loss='sparse_categorical_crossentropy',\r\n",
        "              optimizer=optimizers.Adam(lr=1e-3),\r\n",
        "              metrics=['accuracy'])\r\n",
        "model.summary()"
      ],
      "execution_count": null,
      "outputs": [
        {
          "output_type": "stream",
          "text": [
            "Model: \"sequential_1\"\n",
            "_________________________________________________________________\n",
            "Layer (type)                 Output Shape              Param #   \n",
            "=================================================================\n",
            "embedding_5 (Embedding)      (None, 5000, 64)          1280000   \n",
            "_________________________________________________________________\n",
            "global_average_pooling1d_3 ( (None, 64)                0         \n",
            "_________________________________________________________________\n",
            "dropout_3 (Dropout)          (None, 64)                0         \n",
            "_________________________________________________________________\n",
            "dense_6 (Dense)              (None, 120)               7800      \n",
            "_________________________________________________________________\n",
            "dense_7 (Dense)              (None, 20)                2420      \n",
            "=================================================================\n",
            "Total params: 1,290,220\n",
            "Trainable params: 1,290,220\n",
            "Non-trainable params: 0\n",
            "_________________________________________________________________\n"
          ],
          "name": "stdout"
        }
      ]
    },
    {
      "cell_type": "code",
      "metadata": {
        "colab": {
          "base_uri": "https://localhost:8080/"
        },
        "id": "w_hFsX0Y7KIO",
        "outputId": "517edd60-970e-43d1-9f3e-cf57f508047b"
      },
      "source": [
        "# entrenamos (a más epochs, más precisión)\r\n",
        "%%time\r\n",
        "# lr_reducer = tf.keras.callbacks.ReduceLROnPlateau(\r\n",
        "#     monitor=\"val_accuracy\", patience=5, min_lr=1e-5, mode='max')\r\n",
        "history = model.fit(x_train, data_train.target, epochs=70, validation_data=(x_test, data_test.target), verbose=2)"
      ],
      "execution_count": null,
      "outputs": [
        {
          "output_type": "stream",
          "text": [
            "Epoch 1/70\n",
            "354/354 - 14s - loss: 3.0040 - accuracy: 0.0528 - val_loss: 2.9976 - val_accuracy: 0.0535\n",
            "Epoch 2/70\n",
            "354/354 - 13s - loss: 2.9921 - accuracy: 0.0586 - val_loss: 2.9802 - val_accuracy: 0.0659\n",
            "Epoch 3/70\n",
            "354/354 - 13s - loss: 2.9639 - accuracy: 0.0698 - val_loss: 2.9422 - val_accuracy: 0.0706\n",
            "Epoch 4/70\n",
            "354/354 - 13s - loss: 2.9126 - accuracy: 0.0863 - val_loss: 2.8948 - val_accuracy: 0.1040\n",
            "Epoch 5/70\n",
            "354/354 - 13s - loss: 2.8511 - accuracy: 0.0979 - val_loss: 2.8242 - val_accuracy: 0.1228\n",
            "Epoch 6/70\n",
            "354/354 - 13s - loss: 2.7750 - accuracy: 0.1197 - val_loss: 2.7524 - val_accuracy: 0.1362\n",
            "Epoch 7/70\n",
            "354/354 - 13s - loss: 2.6849 - accuracy: 0.1363 - val_loss: 2.6586 - val_accuracy: 0.1326\n",
            "Epoch 8/70\n",
            "354/354 - 13s - loss: 2.5876 - accuracy: 0.1654 - val_loss: 2.5669 - val_accuracy: 0.1693\n",
            "Epoch 9/70\n",
            "354/354 - 13s - loss: 2.4879 - accuracy: 0.1929 - val_loss: 2.4846 - val_accuracy: 0.1774\n",
            "Epoch 10/70\n",
            "354/354 - 13s - loss: 2.3945 - accuracy: 0.2205 - val_loss: 2.4001 - val_accuracy: 0.2067\n",
            "Epoch 11/70\n",
            "354/354 - 13s - loss: 2.3040 - accuracy: 0.2468 - val_loss: 2.3243 - val_accuracy: 0.2345\n",
            "Epoch 12/70\n",
            "354/354 - 13s - loss: 2.2093 - accuracy: 0.2789 - val_loss: 2.2404 - val_accuracy: 0.2772\n",
            "Epoch 13/70\n",
            "354/354 - 13s - loss: 2.1119 - accuracy: 0.3154 - val_loss: 2.1622 - val_accuracy: 0.2965\n",
            "Epoch 14/70\n",
            "354/354 - 13s - loss: 2.0136 - accuracy: 0.3442 - val_loss: 2.0863 - val_accuracy: 0.3059\n",
            "Epoch 15/70\n",
            "354/354 - 13s - loss: 1.9191 - accuracy: 0.3714 - val_loss: 1.9929 - val_accuracy: 0.3597\n",
            "Epoch 16/70\n",
            "354/354 - 13s - loss: 1.8215 - accuracy: 0.4129 - val_loss: 1.9309 - val_accuracy: 0.3648\n",
            "Epoch 17/70\n",
            "354/354 - 13s - loss: 1.7332 - accuracy: 0.4445 - val_loss: 1.8503 - val_accuracy: 0.4057\n",
            "Epoch 18/70\n",
            "354/354 - 13s - loss: 1.6421 - accuracy: 0.4744 - val_loss: 1.7856 - val_accuracy: 0.4165\n",
            "Epoch 19/70\n",
            "354/354 - 13s - loss: 1.5590 - accuracy: 0.5042 - val_loss: 1.7146 - val_accuracy: 0.4507\n",
            "Epoch 20/70\n",
            "354/354 - 13s - loss: 1.4808 - accuracy: 0.5365 - val_loss: 1.6627 - val_accuracy: 0.4529\n",
            "Epoch 21/70\n",
            "354/354 - 13s - loss: 1.4061 - accuracy: 0.5532 - val_loss: 1.6048 - val_accuracy: 0.4752\n",
            "Epoch 22/70\n",
            "354/354 - 13s - loss: 1.3307 - accuracy: 0.5837 - val_loss: 1.5583 - val_accuracy: 0.4842\n",
            "Epoch 23/70\n",
            "354/354 - 13s - loss: 1.2607 - accuracy: 0.6089 - val_loss: 1.5101 - val_accuracy: 0.5177\n",
            "Epoch 24/70\n",
            "354/354 - 13s - loss: 1.1966 - accuracy: 0.6296 - val_loss: 1.4678 - val_accuracy: 0.5358\n",
            "Epoch 25/70\n",
            "354/354 - 13s - loss: 1.1410 - accuracy: 0.6510 - val_loss: 1.4199 - val_accuracy: 0.5467\n",
            "Epoch 26/70\n",
            "354/354 - 13s - loss: 1.0812 - accuracy: 0.6756 - val_loss: 1.3745 - val_accuracy: 0.5556\n",
            "Epoch 27/70\n",
            "354/354 - 13s - loss: 1.0260 - accuracy: 0.6984 - val_loss: 1.3507 - val_accuracy: 0.5710\n",
            "Epoch 28/70\n",
            "354/354 - 13s - loss: 0.9763 - accuracy: 0.7081 - val_loss: 1.3084 - val_accuracy: 0.5726\n",
            "Epoch 29/70\n",
            "354/354 - 13s - loss: 0.9182 - accuracy: 0.7325 - val_loss: 1.2661 - val_accuracy: 0.6077\n",
            "Epoch 30/70\n",
            "354/354 - 13s - loss: 0.8663 - accuracy: 0.7585 - val_loss: 1.2725 - val_accuracy: 0.5917\n",
            "Epoch 31/70\n",
            "354/354 - 13s - loss: 0.8188 - accuracy: 0.7667 - val_loss: 1.2302 - val_accuracy: 0.6142\n",
            "Epoch 32/70\n",
            "354/354 - 13s - loss: 0.7768 - accuracy: 0.7813 - val_loss: 1.1724 - val_accuracy: 0.6407\n",
            "Epoch 33/70\n",
            "354/354 - 13s - loss: 0.7286 - accuracy: 0.8026 - val_loss: 1.1293 - val_accuracy: 0.6532\n",
            "Epoch 34/70\n",
            "354/354 - 13s - loss: 0.6839 - accuracy: 0.8184 - val_loss: 1.1193 - val_accuracy: 0.6665\n",
            "Epoch 35/70\n",
            "354/354 - 13s - loss: 0.6446 - accuracy: 0.8314 - val_loss: 1.1127 - val_accuracy: 0.6488\n",
            "Epoch 36/70\n",
            "354/354 - 13s - loss: 0.6047 - accuracy: 0.8425 - val_loss: 1.1075 - val_accuracy: 0.6549\n",
            "Epoch 37/70\n",
            "354/354 - 13s - loss: 0.5711 - accuracy: 0.8520 - val_loss: 1.0694 - val_accuracy: 0.6790\n",
            "Epoch 38/70\n",
            "354/354 - 13s - loss: 0.5364 - accuracy: 0.8615 - val_loss: 1.0653 - val_accuracy: 0.6727\n",
            "Epoch 39/70\n",
            "354/354 - 13s - loss: 0.5093 - accuracy: 0.8677 - val_loss: 1.0324 - val_accuracy: 0.6880\n",
            "Epoch 40/70\n",
            "354/354 - 13s - loss: 0.4802 - accuracy: 0.8795 - val_loss: 1.0244 - val_accuracy: 0.6974\n",
            "Epoch 41/70\n",
            "354/354 - 13s - loss: 0.4538 - accuracy: 0.8863 - val_loss: 0.9743 - val_accuracy: 0.7167\n",
            "Epoch 42/70\n",
            "354/354 - 13s - loss: 0.4246 - accuracy: 0.8938 - val_loss: 0.9691 - val_accuracy: 0.7058\n",
            "Epoch 43/70\n",
            "354/354 - 13s - loss: 0.4031 - accuracy: 0.9005 - val_loss: 0.9474 - val_accuracy: 0.7160\n",
            "Epoch 44/70\n",
            "354/354 - 13s - loss: 0.3823 - accuracy: 0.9069 - val_loss: 0.9649 - val_accuracy: 0.7100\n",
            "Epoch 45/70\n",
            "354/354 - 13s - loss: 0.3545 - accuracy: 0.9152 - val_loss: 0.9480 - val_accuracy: 0.7172\n",
            "Epoch 46/70\n",
            "354/354 - 13s - loss: 0.3417 - accuracy: 0.9169 - val_loss: 1.0059 - val_accuracy: 0.6999\n",
            "Epoch 47/70\n",
            "354/354 - 13s - loss: 0.3209 - accuracy: 0.9253 - val_loss: 0.9297 - val_accuracy: 0.7273\n",
            "Epoch 48/70\n",
            "354/354 - 13s - loss: 0.3041 - accuracy: 0.9268 - val_loss: 0.9136 - val_accuracy: 0.7302\n",
            "Epoch 49/70\n",
            "354/354 - 13s - loss: 0.2866 - accuracy: 0.9316 - val_loss: 0.8973 - val_accuracy: 0.7400\n",
            "Epoch 50/70\n",
            "354/354 - 13s - loss: 0.2767 - accuracy: 0.9356 - val_loss: 0.8961 - val_accuracy: 0.7438\n",
            "Epoch 51/70\n",
            "354/354 - 13s - loss: 0.2547 - accuracy: 0.9397 - val_loss: 0.8850 - val_accuracy: 0.7500\n",
            "Epoch 52/70\n",
            "354/354 - 13s - loss: 0.2438 - accuracy: 0.9435 - val_loss: 0.9178 - val_accuracy: 0.7351\n",
            "Epoch 53/70\n",
            "354/354 - 13s - loss: 0.2339 - accuracy: 0.9457 - val_loss: 0.8862 - val_accuracy: 0.7511\n",
            "Epoch 54/70\n",
            "354/354 - 13s - loss: 0.2186 - accuracy: 0.9494 - val_loss: 0.8673 - val_accuracy: 0.7552\n",
            "Epoch 55/70\n",
            "354/354 - 13s - loss: 0.2082 - accuracy: 0.9532 - val_loss: 0.8709 - val_accuracy: 0.7580\n",
            "Epoch 56/70\n",
            "354/354 - 13s - loss: 0.2014 - accuracy: 0.9537 - val_loss: 0.9028 - val_accuracy: 0.7444\n",
            "Epoch 57/70\n",
            "354/354 - 13s - loss: 0.1923 - accuracy: 0.9564 - val_loss: 0.8851 - val_accuracy: 0.7546\n",
            "Epoch 58/70\n",
            "354/354 - 13s - loss: 0.1794 - accuracy: 0.9628 - val_loss: 0.9078 - val_accuracy: 0.7504\n",
            "Epoch 59/70\n",
            "354/354 - 13s - loss: 0.1704 - accuracy: 0.9626 - val_loss: 0.9621 - val_accuracy: 0.7305\n",
            "Epoch 60/70\n",
            "354/354 - 13s - loss: 0.1624 - accuracy: 0.9640 - val_loss: 0.8736 - val_accuracy: 0.7602\n",
            "Epoch 61/70\n",
            "354/354 - 13s - loss: 0.1570 - accuracy: 0.9653 - val_loss: 0.9094 - val_accuracy: 0.7497\n",
            "Epoch 62/70\n",
            "354/354 - 13s - loss: 0.1498 - accuracy: 0.9677 - val_loss: 0.8819 - val_accuracy: 0.7630\n",
            "Epoch 63/70\n",
            "354/354 - 13s - loss: 0.1449 - accuracy: 0.9686 - val_loss: 0.9307 - val_accuracy: 0.7539\n",
            "Epoch 64/70\n",
            "354/354 - 13s - loss: 0.1393 - accuracy: 0.9696 - val_loss: 0.9014 - val_accuracy: 0.7568\n",
            "Epoch 65/70\n",
            "354/354 - 13s - loss: 0.1317 - accuracy: 0.9727 - val_loss: 0.9428 - val_accuracy: 0.7507\n",
            "Epoch 66/70\n",
            "354/354 - 13s - loss: 0.1195 - accuracy: 0.9770 - val_loss: 0.9524 - val_accuracy: 0.7540\n",
            "Epoch 67/70\n",
            "354/354 - 13s - loss: 0.1170 - accuracy: 0.9763 - val_loss: 0.9017 - val_accuracy: 0.7635\n",
            "Epoch 68/70\n",
            "354/354 - 13s - loss: 0.1123 - accuracy: 0.9768 - val_loss: 0.9264 - val_accuracy: 0.7605\n",
            "Epoch 69/70\n",
            "354/354 - 13s - loss: 0.1070 - accuracy: 0.9774 - val_loss: 0.9091 - val_accuracy: 0.7675\n",
            "Epoch 70/70\n",
            "354/354 - 13s - loss: 0.1002 - accuracy: 0.9798 - val_loss: 1.0237 - val_accuracy: 0.7402\n",
            "CPU times: user 14min 55s, sys: 47.1 s, total: 15min 42s\n",
            "Wall time: 14min 58s\n"
          ],
          "name": "stdout"
        }
      ]
    },
    {
      "cell_type": "code",
      "metadata": {
        "colab": {
          "base_uri": "https://localhost:8080/",
          "height": 334
        },
        "id": "uRmWn7Ou7cl1",
        "outputId": "1b40c3f3-9d4d-4075-a098-daf92821a02d"
      },
      "source": [
        "import matplotlib.pyplot as plt\r\n",
        "\r\n",
        "plt.figure(figsize=(12, 5))\r\n",
        "ax = plt.subplot(121)\r\n",
        "plt.plot(history.history['accuracy'])\r\n",
        "plt.plot(history.history['val_accuracy'])\r\n",
        "plt.xlabel(\"Epochs\")\r\n",
        "plt.ylabel(\"Accuracy\")\r\n",
        "plt.legend(['train accuracy', 'test accuracy'])\r\n",
        "plt.subplot(122)\r\n",
        "plt.plot(history.history['loss'])\r\n",
        "plt.plot(history.history['val_loss']);\r\n",
        "plt.xlabel(\"Epochs\")\r\n",
        "plt.ylabel(\"Loss\")\r\n",
        "plt.legend(['train loss', 'test loss']);"
      ],
      "execution_count": null,
      "outputs": [
        {
          "output_type": "display_data",
          "data": {
            "image/png": "[encoded data removed]",
            "text/plain": [
              "<Figure size 864x360 with 2 Axes>"
            ]
          },
          "metadata": {
            "tags": [],
            "needs_background": "light"
          }
        }
      ]
    }
  ]
}